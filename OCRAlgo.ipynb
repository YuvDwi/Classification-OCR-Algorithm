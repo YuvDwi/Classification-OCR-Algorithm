{
  "nbformat": 4,
  "nbformat_minor": 0,
  "metadata": {
    "colab": {
      "name": "Untitled1.ipynb",
      "provenance": []
    },
    "kernelspec": {
      "name": "python3",
      "display_name": "Python 3"
    }
  },
  "cells": [
    {
      "cell_type": "code",
      "metadata": {
        "id": "JXyelCXPgQHP"
      },
      "source": [
        "import matplotlib.pyplot as plt\r\n",
        "from sklearn import datasets\r\n",
        "from sklearn import svm\r\n",
        "\r\n",
        "digits = datasets.load_digits()"
      ],
      "execution_count": 1,
      "outputs": []
    },
    {
      "cell_type": "code",
      "metadata": {
        "id": "mZAlltX8w4Kp"
      },
      "source": [
        "%matplotlib inline"
      ],
      "execution_count": 2,
      "outputs": []
    },
    {
      "cell_type": "code",
      "metadata": {
        "colab": {
          "base_uri": "https://localhost:8080/",
          "height": 282
        },
        "id": "NYXIFb-dnyor",
        "outputId": "8a7979f9-6e73-4b35-91b7-2d52ad8bddb5"
      },
      "source": [
        "clf = svm.SVC(gamma=0.0001, C=100)\r\n",
        "x,y = digits.data[:-10], digits.target[:-10]\r\n",
        "clf.fit(x,y)\r\n",
        "\r\n",
        "print('Preditction:',clf.predict(digits.data[[-15]]))\r\n",
        "plt.imshow(digits.images[-15], cmap=plt.cm.gray_r, interpolation=\"nearest\")\r\n",
        "plt.show()"
      ],
      "execution_count": 17,
      "outputs": [
        {
          "output_type": "stream",
          "text": [
            "Preditction: [2]\n"
          ],
          "name": "stdout"
        },
        {
          "output_type": "display_data",
          "data": {
            "image/png": "[encoded data removed]",
            "text/plain": [
              "<Figure size 432x288 with 1 Axes>"
            ]
          },
          "metadata": {
            "tags": [],
            "needs_background": "light"
          }
        }
      ]
    }
  ]
}